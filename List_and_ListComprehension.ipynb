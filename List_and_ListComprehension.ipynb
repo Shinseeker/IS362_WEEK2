{
 "cells": [
  {
   "cell_type": "markdown",
   "metadata": {},
   "source": [
    "**Lists and List Comprehension**\n",
    "*Data Structures*\n",
    "\n",
    "Lists and list comprehensions make it easier for a coder to build lists from scratch. In this breif write up we can see how adujastable and how concise we can get while constructing lists.  \n",
    "\n",
    "The Basic Definition of a list:\n",
    "\n",
    "A list is the most basic data structure in Python. It is sequenced and each element in this sequence is assigned a number - its position or index. The first index is zero, the second index is one, and so forth.\n",
    "\n",
    "Examples:"
   ]
  },
  {
   "cell_type": "code",
   "execution_count": 1,
   "metadata": {
    "collapsed": false
   },
   "outputs": [
    {
     "name": "stdout",
     "output_type": "stream",
     "text": [
      "Math\n",
      "[2, 3, 4, 5]\n"
     ]
    }
   ],
   "source": [
    "list1 = ['Math', 'Geography', 1997, 2000];\n",
    "list2 = [1, 2, 3, 4, 5, 6, 7 ];\n",
    "\n",
    "print  (list1[0])\n",
    "print  (list2[1:5])"
   ]
  },
  {
   "cell_type": "markdown",
   "metadata": {},
   "source": [
    "Note: This is a basic way to access values in lists, use the square brackets for slicing along with the index or indices to obtain value available at that index."
   ]
  },
  {
   "cell_type": "code",
   "execution_count": 2,
   "metadata": {
    "collapsed": false
   },
   "outputs": [
    {
     "name": "stdout",
     "output_type": "stream",
     "text": [
      "[([1, 2, 3], 1), ([2, 3, 4], 2), ([3, 4, 5], 3), ([4, 5, 6], 4), ([5, 6, 7], 5), ([6, 7, 8], 6), ([7, 8, 9], 7)]\n"
     ]
    }
   ],
   "source": [
    "listoflists = []\n",
    "a_list = []\n",
    "for i in range(0,10):\n",
    "    a_list.append(i)\n",
    "    if len(a_list)>3:\n",
    "        a_list.remove(a_list[0])\n",
    "        listoflists.append((list(a_list), a_list[0]))\n",
    "print (listoflists)"
   ]
  },
  {
   "cell_type": "markdown",
   "metadata": {},
   "source": [
    "Lists are fun and Adjustable... From the code above we can also remove and update a list in python. However, they can be real tricky especially if you want your code to be neater.\n",
    "\n",
    "**List Comprehension:**\n",
    "\n",
    "A list comprehension is a neat feature within python. This feature allows one list into another list. At first Many beiginners get confused when comes to list comprehension.\n",
    "\n",
    "Examples:"
   ]
  },
  {
   "cell_type": "code",
   "execution_count": 3,
   "metadata": {
    "collapsed": false
   },
   "outputs": [
    {
     "name": "stdout",
     "output_type": "stream",
     "text": [
      "[1, 2, 1, 1, 1]\n"
     ]
    }
   ],
   "source": [
    "L = \"thanks yoU For the help\".lower()\n",
    "L2 = [sum(x.count(y) for y in 'aeoiu') for x in L.split()]\n",
    "print (L2)"
   ]
  },
  {
   "cell_type": "markdown",
   "metadata": {},
   "source": [
    "Instead of writing out the List in a few lines i pretty much did it in two. That is the beauty about List comprehension. They esstianlly provide new syntax to solve an existing problem. "
   ]
  }
 ],
 "metadata": {
  "kernelspec": {
   "display_name": "Python 3",
   "language": "python",
   "name": "python3"
  },
  "language_info": {
   "codemirror_mode": {
    "name": "ipython",
    "version": 3
   },
   "file_extension": ".py",
   "mimetype": "text/x-python",
   "name": "python",
   "nbconvert_exporter": "python",
   "pygments_lexer": "ipython3",
   "version": "3.6.0"
  }
 },
 "nbformat": 4,
 "nbformat_minor": 2
}
